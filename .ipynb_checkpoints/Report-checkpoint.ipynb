{
 "cells": [
  {
   "cell_type": "markdown",
   "metadata": {},
   "source": [
    "# Introduction"
   ]
  },
  {
   "cell_type": "markdown",
   "metadata": {},
   "source": [
    "This document details the report of the Algorithmic Problem Solving\n",
    "Independent Study. The goal of this study was to study advanced methods\n",
    "of algortihmic design, analysis and implementation of effcient solutions\n",
    "to solve problems. The problems for the study were proposed and agreed\n",
    "upon by taking inputs from all the students in the group in\n",
    "consulatation with the sponsoring faculty. Problems of varying levels of\n",
    "difficulty were selected from online competitive judging software like\n",
    "LeetCode, HackerRank, CodeChef and Google Code Jam. The target number of\n",
    "problems to be solved was 30 which we complete successfully and dicuss\n",
    "below."
   ]
  },
  {
   "cell_type": "markdown",
   "metadata": {},
   "source": [
    "# Identifying Information"
   ]
  },
  {
   "cell_type": "markdown",
   "metadata": {},
   "source": [
    "LeetCode - user1524a - https://leetcode.com/user1524a </br>\n",
    "HackerRank - MukundaJ - https://www.hackerrank.com/MukundaJ </br>\n",
    "CodeChef - chefmukunda - https://www.codechef.com/users/chefmukunda </br>"
   ]
  },
  {
   "cell_type": "markdown",
   "metadata": {},
   "source": [
    "# The Problems"
   ]
  },
  {
   "cell_type": "markdown",
   "metadata": {},
   "source": [
    "## Trouble Sort (https://codingcompetitions.withgoogle.com/codejam/round/00000000000000cb/00000000000079cb)"
   ]
  },
  {
   "cell_type": "markdown",
   "metadata": {},
   "source": [
    "The problem proposes and presents a new way / algorithm to sort numbers similar to bubble sort. The problem proposes that to sort the array, each time we look at three continuous numbers in the array and compare the left-most and the right-most element, if the left-most element is larger it reverses the entire group of three numbers. The problem asks us to examine the given algorithm and answer if it would correctly sort a given list or not.\n",
    "A trivial solution would be to implement the Trouble sort Algorithm and simply check if it correctly sorts the given list.\n",
    "However, the proposed algorithm runs in O(n^2) time, although a correct solution, this times out on the test cases indicating we can do better.\n",
    "We analyze to the trouble sort algorithm to expose a fundamental flaw in it. The algorithm only compares even indexed element with other even indexed elements and the same for odd indexed elements. This implies that after the algortihm is done running, all the elements at even and odd indices are sorted among themseleves (i.e. all the values at even indices and all the values at odd indices are sorted amon themselves). So to recreate the ouput of this algorithm, we can simply run a known, faster sorting algorithm on the even elements and the odd elements separately, then we interleave these sorted groups with each other, picking an even indexed element followed by an odd one.\n",
    "Finally, we can simply check for the first out of place value in this resultant array to check if it is sorted or not.\n",
    "This brings down our complexity to O(nlog(n)).\n",
    "Sorting even and odd indexed elements takes O(nlog(n)) + O(nlog(n)) = O(nlog(n)) time.\n",
    "Checking if the list is sorted takes O(n) time.\n",
    "Overall, O(nlog(n)) + O(n) = O(nlog(n)).\n",
    "The space complexity depends on the sorting algorithm used.\n",
    "The python sort function we use sorts the list in place without any additional space, making our space complexity O(1)."
   ]
  },
  {
   "cell_type": "markdown",
   "metadata": {},
   "source": [
    "## Bigger is Greater (https://www.hackerrank.com/challenges/bigger-is-greater/problem)"
   ]
  },
  {
   "cell_type": "markdown",
   "metadata": {},
   "source": [
    "This is a string problem that asks us to find the next lexicographically greater string, if possible, by only rearranging characters of a given an input string.\n",
    "A brute force approach to the problem would be to list out all the arrangements of the string, \n",
    "then we sort this list having all the arrangements which would take O(klog(k)) time where k is the length of the list (We observe that a string of length n has n! such arrangements so k would be n!). Then we simply scan across the sorted list to find the index of our input string, the next string in the list different from the input string would then be our required solution (i.e. the next lexicographically greater string formed by rearranging characters of the given string). A quick optimization would be to search for our input string in the sorted list using binary search although this still . However, this approach is still extremely slow, costing O(n!log(n!)) time. We can do better, much better infact. The most important observation to this approach is that we want to 'increase' the string as little as possible. Just like counting up in numbers, we try to modify the leftmost elements of the string leaving the righmost ones unchanged. To do this, we first identify the longest non-increasing suffix in the string which takes us O(n) time. If the entire string is non-decreasing going left to right in the string, then this is the lexicographically largest string that can be made from those characters (e.g. 'cbaa'), in which case we return 'no answer' since the string is already at the highest permutation it can be. "
   ]
  }
 ],
 "metadata": {
  "kernelspec": {
   "display_name": "Python 3",
   "language": "python",
   "name": "python3"
  },
  "language_info": {
   "codemirror_mode": {
    "name": "ipython",
    "version": 3
   },
   "file_extension": ".py",
   "mimetype": "text/x-python",
   "name": "python",
   "nbconvert_exporter": "python",
   "pygments_lexer": "ipython3",
   "version": "3.7.4"
  }
 },
 "nbformat": 4,
 "nbformat_minor": 4
}
